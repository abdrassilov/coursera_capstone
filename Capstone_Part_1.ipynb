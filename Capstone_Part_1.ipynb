{
    "cells": [
        {
            "cell_type": "markdown",
            "metadata": {
                "collapsed": true
            },
            "source": "## Capstone Project - The Battle of the Neighborhoods (Week 1)\n\nApplied Data Science Capstone by IBM/Coursera"
        },
        {
            "cell_type": "markdown",
            "metadata": {},
            "source": "### Introduction\n#### Client:\nUS based company with main business of letting individuals or small companies rent workplace or even whole rooms in company's so called **co-working offices**.\n#### Problem: \nCompany wants to grow and enter new market. It's required to identify safe and secure location in **Vancouver, Canada**, to open commercial establishment, specifically, **co-working office**.\n#### Solution:\nIdentification of the safest borough is done thru analyzing crime data and shortlisting neighbourhood, where co-working offices are not amongst the most commom venues, and yet as close to the city as possible.\nData science tools will be used to analyze data and focus on the safest borough and explore its neighborhoods and the 10 most common venues in each neighborhood so that the best neighborhood where co-working offices are not amongst the most common venue can be selected."
        },
        {
            "cell_type": "markdown",
            "metadata": {},
            "source": "### Data\n\nThere are several points which will influence on the decision:\n    \n1. finding the safest borough based on crime statistics;\n2. finding the most common venues;\n3. choosing the right neighbourhood within the borough.\n\nGeographical coordinates of Vancouver will be used to plot neighbourhoods in a borough that is safe and in the city's vicinity, and finally cluster our neighborhoods and present our findings.\n\n1. Using a real world data set from **Kaggle** containing the Vancouver Crimes from 2003 to 2019: \nA dataset consisting of the crime statistics of each neighbourhoof in Vancouver along with additional information such as type of crime, recorded year, month and hour.\n\n2. Gathering additional information of the list of officially categorized boroughs in Vancouver from **Wikipedia**:\nBorough information will be used to map the existing data where each neighbourhood can be assigned with its respective borough.\n\n3. Creating a new consolidated dataset of the neighborhoods, along with their boroughs, crime data and the respective neighbourhood's co-ordinates: This latitude and longitude data will be fetched using **OpenCage Geocoder** to explore the neighbourhood by plotting it on maps using **Folium** and perform exploratory data analysis.\n\n4. Creating a new consolidated dataset of the neighborhoods, boroughs, and the most common venues and the respective neighbourhood along with co-ordinates: This data will be fetched using **Foursquare API** to explore the neighbourhood venues and to apply machine learning algorithm to cluster the neighbourhoods and present the findings by plotting it on maps using Folium."
        },
        {
            "cell_type": "markdown",
            "metadata": {},
            "source": "Thanks,\n\nAskhat"
        }
    ],
    "metadata": {
        "kernelspec": {
            "display_name": "Python 3.6",
            "language": "python",
            "name": "python3"
        },
        "language_info": {
            "codemirror_mode": {
                "name": "ipython",
                "version": 3
            },
            "file_extension": ".py",
            "mimetype": "text/x-python",
            "name": "python",
            "nbconvert_exporter": "python",
            "pygments_lexer": "ipython3",
            "version": "3.6.9"
        }
    },
    "nbformat": 4,
    "nbformat_minor": 1
}